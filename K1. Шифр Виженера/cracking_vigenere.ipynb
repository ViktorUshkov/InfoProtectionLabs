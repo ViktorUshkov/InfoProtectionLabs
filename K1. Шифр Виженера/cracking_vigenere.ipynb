{
 "cells": [
  {
   "cell_type": "code",
   "execution_count": null,
   "id": "7aa97f67",
   "metadata": {},
   "outputs": [],
   "source": [
    "# импорт специально написанных инструментов для взлома шифра\n",
    "from tools import VigenereLengthFinder, VigenereCracker\n",
    "# также подгружаем остальные необходимые питоновские библиотеки\n",
    "import matplotlib.pyplot as plt\n",
    "import pandas as pd"
   ]
  },
  {
   "cell_type": "markdown",
   "id": "03dff22f",
   "metadata": {},
   "source": [
    "Для того, чтобы взломать шифр Виженера, нужна сначала попытаться определить длину ключа. Для этого используется метод индекса совпадений\n",
    "> Метод основан на том факте, что вероятность совпадения двух случайных букв в некотором достаточно длинном тексте (индекс совпадений) — это постоянная величина. Таким образом, если разбить текст на L групп символов, каждая из которых зашифрована шифром простой замены (напомню, это и означает, что L — длина ключевого слова), то индексы совпадений для каждой из групп будут довольно близки к теоретическому значению этой величины; для всех других разбиений индексы совпадений будут гораздо ниже. \n",
    "\n",
    "$$ИС = \\sum_{i} \\dfrac{f_i \\left( f_i - 1 \\right)}{n\\left(n - 1 \\right)} $$\n",
    "Здесь $f_i$ - количество i-х букв алфавита в тексте, а $n$ — его длина"
   ]
  },
  {
   "cell_type": "code",
   "execution_count": 2,
   "id": "176c3b61",
   "metadata": {},
   "outputs": [],
   "source": [
    "# читаем зашифрованный файл\n",
    "with open('materials/2024_11_29_19_46_57_Виктор_Ушков_task.txt', 'r', encoding=\"utf-8\") as f:\n",
    "    text = f.read()\n",
    "# создаем экземпляр класса VigenereLengthFinder для определения длины ключа (реализация в файле tools.py)\n",
    "vlf = VigenereLengthFinder(encrypted_text=text)\n",
    "ICs = vlf.all_lengths_ICs"
   ]
  },
  {
   "cell_type": "markdown",
   "id": "c65ac588",
   "metadata": {},
   "source": [
    "Построим барплот полученных индексов совпадений для рассматриваемых длин ключа"
   ]
  },
  {
   "cell_type": "code",
   "execution_count": 3,
   "id": "957db60a",
   "metadata": {},
   "outputs": [
    {
     "data": {
      "image/png": "[encoded data removed]",
      "text/plain": [
       "<Figure size 1080x720 with 1 Axes>"
      ]
     },
     "metadata": {
      "needs_background": "light"
     },
     "output_type": "display_data"
    }
   ],
   "source": [
    "plt.figure(figsize=(15,10))\n",
    "plt.bar(ICs.keys(), ICs.values())\n",
    "plt.xlabel(\"рассматриваемые длины ключей\", fontsize=14)\n",
    "plt.ylabel(\"индексы совпадений\", fontsize=14)\n",
    "plt.show()"
   ]
  },
  {
   "cell_type": "markdown",
   "id": "2f81da56",
   "metadata": {},
   "source": [
    "Пики барплота находятся на длинах ключа, кратных числу 13. \n",
    "В первую очередь предположим, что ключ состоит из 13 символов\n",
    "\n",
    "Для дальнейшей работы загрузим словарь слов русского языка - данный словарь был взят с репозитория https://github.com/danakt/russian-words\n",
    "\n",
    "В этом словаре содержится больше 1 500 000 записей, слова содержатся во всех морфологических формах, поэтому покрытие будет достаточно большим\n",
    "\n",
    "Также приведем слова в словаре к виду, в котором слова представлены в зашифрованном тексте - то есть приведем к верхнему регистру"
   ]
  },
  {
   "cell_type": "code",
   "execution_count": 4,
   "id": "59b27145",
   "metadata": {},
   "outputs": [
    {
     "name": "stdout",
     "output_type": "stream",
     "text": [
      "['-ДЕ', '-КА', '-ЛИБО', '-НИБУДЬ', '-С', '-ТАКИ', '-ТО', 'А', 'А-КОНТО', 'А-ЛЯ']\n",
      "['ПОСМУРНЕВШАЯ', 'ПОСМУРНЕВШЕГО', 'ПОСМУРНЕВШЕЕ', 'ПОСМУРНЕВШЕЙ', 'ПОСМУРНЕВШЕМ', 'ПОСМУРНЕВШЕМУ', 'ПОСМУРНЕВШЕЮ', 'ПОСМУРНЕВШИ', 'ПОСМУРНЕВШИЕ', 'ПОСМУРНЕВШИЙ']\n"
     ]
    }
   ],
   "source": [
    "# загружаем список слов русского языка\n",
    "with open(\"materials/russian.txt\") as f:\n",
    "    vocabulary = f.readlines()\n",
    "\n",
    "# предобработка\n",
    "words = [str.upper(word.strip()) for word in vocabulary]\n",
    "print(words[:10])\n",
    "print(words[-10:])"
   ]
  },
  {
   "cell_type": "markdown",
   "id": "a874373e",
   "metadata": {},
   "source": [
    "Для удобства создадим словарь, в котором ключами будут длины слов, а значениями - список слов длиной, соответствующей ключу"
   ]
  },
  {
   "cell_type": "code",
   "execution_count": 5,
   "id": "59eb9486",
   "metadata": {},
   "outputs": [],
   "source": [
    "dict_by_lengths = {i: [] for i in range(1, len(max(words, key=len)) + 1)}\n",
    "for word in words:\n",
    "    #не заносим слова с дефисом\n",
    "    if \"-\" in word:\n",
    "        continue\n",
    "    dict_by_lengths[len(word)].append(word)"
   ]
  },
  {
   "cell_type": "markdown",
   "id": "a8fe22bf",
   "metadata": {},
   "source": [
    "Теперь, с помощью написанного класса для взлома шифра, попытаемся получить оригинальный текст. Для этого будем использовать способ перебора сдвигов по частотам, способ реализован в файле tools.py в классе VigenereCracker"
   ]
  },
  {
   "cell_type": "code",
   "execution_count": 6,
   "id": "bd2912d6",
   "metadata": {},
   "outputs": [],
   "source": [
    "# создаем экземпляр класса VigenereCracker для поиска ключа путем перебора сдвигов по частотам (реализация в файле tools.py)\n",
    "vc = VigenereCracker(text, 13)\n",
    "# limit - количество слов на котором проверяется корректность расшифрованного текста\n",
    "# error_threshold - максимально допустимое отношение количества слов, которые не были найдены в словаре dict_by_lengths к количеству всех проверяемых слов (limit)\n",
    "# для экономии времени, функция вернет первый текст, удовлетворяемый error_threshold \n",
    "# (90% корректных слов достаточный порог, чтобы найти хотя бы один такой текст, но при этом высокий, чтобы удовлетворяющих текстов было больше одного)\n",
    "original_text = vc.decrypt_text(limit=100, words_by_length=dict_by_lengths, error_threshold=0.1)"
   ]
  },
  {
   "cell_type": "code",
   "execution_count": 7,
   "id": "e46a9e8c",
   "metadata": {},
   "outputs": [
    {
     "name": "stdout",
     "output_type": "stream",
     "text": [
      "ОСТАЛСЯ КУСОЧЕК ЛУНЫ, ТО ЕСТЬ ТОТ ЛУННЫЙ КАМЕНЬ, КОТОРЫЙ ОН ОТБИЛ МОЛОТКОМ ОТ СКАЛЫ, КОГДА ОПУСКАЛСЯ С ФУКСИЕЙ И СЕЛЁДОЧКОЙ В ЛУННУЮ ПЕЩЕРУ. ЭТОТ ЛУННЫЙ КАМЕНЬ, ИЛИ ЛУНИТ, КАК ЕГО НАЗЫВАЛ ЗНАЙКА, ЛЕЖАЛ У НЕГО В КОМНАТЕ НА ПОДОКОННИКЕ И ПОМИНУТНО ПОПАДАЛСЯ НА ГЛАЗА. ВЗГЛЯНУВ НА ЛУНИТ, ЗНАЙКА ТОТЧАС ЖЕ ВСПОМИНАЛ О ЛУНЕ И ОБО ВСЁМ, ЧТО ПРОИЗОШЛО, И СНОВА РАССТРАИВАЛСЯ.\n",
      "\n",
      "ОДНАЖДЫ, ПРОСНУВШИСЬ НОЧЬЮ, ЗНАЙКА ВЗГЛЯНУЛ НА ЛУНИТ, И ЕМУ ПОКАЗАЛОСЬ, ЧТО КАМЕНЬ В ТЕМНОТЕ СВЕТИТСЯ КАКИМ-ТО МЯГКИМ ГОЛУБОВАТЫМ СВЕТОМ. УДИВЛЁННЫЙ ЭТИМ НЕОБЫЧНЫМ ЯВЛЕНИЕМ, ЗНАЙКА ВСТАЛ С ПОСТЕЛИ И ПОДОШЁЛ К ОКОШКУ, ЧТОБ РАССМОТРЕТЬ ЛУННЫЙ КАМЕНЬ ВБЛИЗИ. ТУТ ОН ЗАМЕТИЛ, ЧТО НА НЕБЕ БЫЛА ПОЛНАЯ, ЯРКАЯ ЛУНА. ЛУЧИ ОТ ЛУНЫ ПАДАЛИ ПРЯМО В ОКНО И ОСВЕЩАЛИ КАМЕНЬ ТАК, ЧТО СОЗДАВАЛОСЬ ВПЕЧАТЛЕНИЕ, БУДТО ОН СВЕТИЛСЯ САМ СОБОЙ. ПОЛЮБОВАВШИСЬ ЭТИМ КРАСИВЫМ ЗРЕЛИЩЕМ, ЗНАЙКА УСПОКОИЛСЯ И ЛЁГ В ПОСТЕЛЬ.\n",
      "\n",
      "\n",
      "\n",
      "\n",
      "\n",
      "В ДРУГОЙ РАЗ (ЭТО СЛУЧИЛОСЬ ВЕЧЕРОМ) ЗНАЙКА ДОЛГО СИДЕЛ ЗА КНИЖКОЙ, А КОГДА НАКОНЕЦ РЕШИЛ ЛЕЧЬ СПАТЬ, БЫЛА УЖЕ ГЛУБОКАЯ НОЧЬ. РАЗДЕВШИСЬ И ПОТУШИВ ЭЛЕКТРИЧЕСТВО, ЗНАЙКА ЗАБРАЛСЯ В ПОСТЕЛЬ. СЛУЧАЙНО ЕГО ВЗГЛЯД УПАЛ НА ЛУНИТ. И ОПЯТЬ ПОКАЗАЛОСЬ ЗНАЙКЕ, ЧТО КАМЕНЬ СВЕТИТСЯ САМ СОБОЙ, И НА ЭТОТ РАЗ ДАЖЕ КАК-ТО ОСОБЕННО ЯРКО. ЗНАЯ, ЧТО ВСЁ ЭТО ЛИШЬ ЭФФЕКТ ЛУННОГО ОСВЕЩЕНИЯ, ЗНАЙКА НЕ ОБРАТИЛ НА КАМЕНЬ ВНИМАНИЯ И УЖЕ СОБИРАЛСЯ ЗАСНУТЬ, КАК ВДРУГ ВСПОМНИЛ, ЧТО В ЭТУ НОЧЬ БЫЛО НОВОЛУНИЕ, ТО ЕСТЬ, ПОПРОСТУ ГОВОРЯ, НА НЕБЕ НЕ МОГЛО БЫТЬ НИКАКОЙ ЛУНЫ. ВСТАВ С ПОСТЕЛИ И ВЫГЛЯНУВ В ОКНО, ЗНАЙКА УБЕДИЛСЯ, ЧТО НОЧЬ ДЕЙСТВИТЕЛЬНО БЫЛА ТЁМНАЯ, БЕЗЛУННАЯ. НА ЧЁРНОМ, КАК УГОЛЬ, НЕБЕ СВЕРКАЛИ ЛИШЬ ЗВЁЗДЫ, НО ЛУНЫ НЕ БЫЛО. НЕСМОТРЯ НА ЭТО, ЛУННЫЙ КАМЕНЬ, ЛЕЖАВШИЙ НА ПОДОКОННИКЕ, СВЕТИЛСЯ ТАК, ЧТО НЕ ТОЛЬКО БЫЛ ВИДЕН САМ, НО И ОСВЕЩАЛ ЧАСТЬ ПОДОКОННИКА ВОКРУГ СЕБЯ.\n",
      "\n",
      "ЗНАЙКА ВЗЯЛ ЛУНИТ В РУКУ, И РУКА ЕГО ОСВЕТИЛАСЬ СЛАБЫМ, МЕРЦАЮЩИМ, КАК БЫ ЛЬЮЩИМСЯ ИЗ КАМНЯ СВЕТОМ. ЧЕМ БОЛЬШЕ ГЛЯДЕЛ ЗНАЙКА НА КАМЕНЬ, ТЕМ ЯРЧЕ, КАЗАЛОСЬ ЕМУ, ОН СВЕТИЛСЯ. И УЖЕ ПОКАЗАЛОСЬ ЗНАЙКЕ, ЧТО В КОМНАТЕ СТАЛО НЕ ТАК ТЕМНО, КАК БЫЛО ВНАЧАЛЕ. И ОН МОГ УЖЕ РАЗГЛЯДЕТЬ В ТЕМНОТЕ И СТОЛ, И СТУЛЬЯ, И КНИЖНУЮ ПОЛКУ. ЗНАЙКА ВЗЯЛ С ПОЛКИ КНИГУ, РАСКРЫЛ ЕЁ И ПОЛОЖИЛ НА НЕЁ ЛУННЫЙ КАМЕНЬ. КАМЕНЬ ОСВЕТИЛ СТРАНИЦУ ТАК, ЧТО ВОКРУГ МОЖНО БЫЛО РАЗЛИЧИТЬ ОТДЕЛЬНЫЕ БУКВЫ И ПРОЧИТАТЬ СЛОВА.\n",
      "\n",
      "ЗНАЙКА ПОНЯЛ, ЧТО ЛУННЫЙ КАМЕНЬ ВЫДЕЛЯЛ КАКУЮ-ТО ЛУЧИСТУЮ ЭНЕРГИЮ. ОН ТУТ ЖЕ ХОТЕЛ ПОБЕЖАТЬ РАССКАЗАТЬ О СВОЁМ ОТКРЫТИИ КОРОТЫШКАМ, НО ВСПОМНИЛ, ЧТО ОНИ ВСЕ УЖЕ ДАВНО СПАЛИ, И НЕ ЗАХОТЕЛ ИХ БУДИТЬ.\n",
      "\n",
      "НА ДРУГОЙ ДЕНЬ ЗНАЙКА СКАЗАЛ КОРОТЫШКАМ:\n",
      "\n",
      "– СЕГОДНЯ ВЕЧЕРОМ ПРИХОДИТЕ, БРАТЦЫ, КО МНЕ. Я ВАМ ПОКАЖУ ОЧЕНЬ ЗАНЯТНУЮ ШТУКУ.\n",
      "\n",
      "– КАКУЮ ШТУКУ? – ЗАИНТЕРЕСОВАЛИСЬ ВСЕ.\n",
      "\n",
      "– ВОТ ПРИХОДИТЕ, УВИДИТЕ.\n",
      "\n",
      "ВСЕМ, КОНЕЧНО, ОЧЕНЬ ИНТЕРЕСНО БЫЛО УЗНАТЬ, ЧТО ЗА ШТУКУ ПОКАЖЕТ ЗНАЙКА. ТОРОПЫЖКА ОТ НЕТЕРПЕНИЯ ТАК ВОЛНОВАЛСЯ, ЧТО ЗА ОБЕДОМ ДАЖЕ ЕСТЬ НИЧЕГО НЕ МОГ. НАКОНЕЦ ОН НЕ ВЫДЕРЖАЛ, ПОШЁЛ К ЗНАЙКЕ И ПРИСТАЛ К НЕМУ С ТАКОЙ СИЛОЙ, ЧТО ЗНАЙКА ВЫНУЖДЕН БЫЛ ОТКРЫТЬ СВОЙ СЕКРЕТ. ТАКИМ ОБРАЗОМ КОРОТЫШКАМ ВСЁ СТАЛО ИЗВЕСТНО ЗАРАНЕЕ, НО ЭТО ЛИШЬ УВЕЛИЧИВАЛО ИХ ЛЮБОПЫТСТВО. КАЖДОМУ ХОТЕЛОСЬ СВОИМИ ГЛАЗАМИ УВИДЕТЬ, КАК СВЕТИТСЯ В ТЕМНОТЕ КАМЕНЬ.\n",
      "\n",
      "КАК ТОЛЬКО СОЛНЫШКО СКРЫЛОСЬ ЗА ГОРИЗОНТОМ, ВСЕ УЖЕ БЫЛИ У ЗНАЙКИ В КОМНАТЕ.\n",
      "\n",
      "– ВЫ РАНО ПРИШЛИ, – СКАЗАЛ КОРОТЫШКАМ ЗНАЙКА. – КАМЕНЬ СЕЙЧАС НЕ МОЖЕТ СВЕТИТЬСЯ, ТАК КАК ЕЩЁ СЛИШКОМ СВЕТЛО. ОН БУДЕТ СВЕТИТЬСЯ, КОГДА НАСТУПИТ ПОЛНАЯ ТЕМНОТА.\n",
      "\n",
      "– НИЧЕГО, МЫ ПОДОЖДЁМ, – ОТВЕТИЛ СИРОПЧИК. – НАМ СПЕШИТЬ НЕКУДА.\n",
      "\n",
      "– НУ, ЖДИТЕ, – СОГЛАСИЛСЯ ЗНАЙКА. – А Я ПОКА, ЧТОБ ВАМ НЕ БЫЛО СКУЧНО, РАССКАЖУ ОБ ЭТОМ ИНТЕРЕСНОМ ЯВЛЕНИИ.\n",
      "\n",
      "\n",
      "\n",
      "\n",
      "\n",
      "ОН ПОЛОЖИЛ НА СТОЛ ПЕРЕД РАССЕВШИМИСЯ ВОКРУГ КОРОТЫШКАМИ ЛУННЫЙ КАМЕНЬ И ПРИНЯЛСЯ РАССКАЗЫВАТЬ О ТОМ, ЧТО В ПРИРОДЕ ВСТРЕЧАЮТСЯ ВЕЩЕСТВА, КОТОРЫЕ ПРИОБРЕТАЮТ СПОСОБНОСТЬ СВЕТИТЬСЯ В ТЕМНОТЕ, ПОСЛЕ ТОГО КАК ПОДВЕРГНУТСЯ ДЕЙСТВИЮ ЛУЧЕЙ СВЕТА. ТАКОЕ СВЕЧЕНИЕ НАЗЫВАЕТСЯ ЛЮМИНЕСЦЕНЦИЕЙ. НЕКОТОРЫЕ ВЕЩЕСТВА ПРИОБРЕТАЮТ СПОСОБНОСТЬ ИСПУСКАТЬ ВИДИМЫЕ ЛУЧИ СВЕТА ДАЖЕ ПОД ВЛИЯНИЕМ НЕВИДИМЫХ УЛЬТРАФИОЛЕТОВЫХ, ИНФРАКРАСНЫХ ИЛИ КОСМИЧЕСКИХ ЛУЧЕЙ.\n",
      "\n",
      "– МОЖНО ПРЕДПОЛОЖИТЬ, ЧТО ИЗ ТАКОГО ВЕЩЕСТВА КАК РАЗ И СОСТОИТ ЛУННЫЙ КАМЕНЬ, – СКАЗАЛ ЗНАЙКА.\n",
      "\n",
      "ЧТОБ ЗАНЯТЬ КОРОТЫШЕК ЕЩЁ ЧЕМ-НИБУДЬ, ЗНАЙКА ИЗЛОЖИЛ ИМ СВОЮ ТЕОРИЮ О ТОМ, ЧТО ЛУНА – ЭТО ТАКОЙ БОЛЬШОЙ ШАР, ВНУТРИ КОТОРОГО ЕСТЬ ДРУГОЙ ШАР, И НА ЭТОМ ВНУТРЕННЕМ ШАРЕ ЖИВУТ ЛУННЫЕ КОРОТЫШКИ, ИЛИ ЛУНАТИКИ.\n",
      "\n",
      "ПОКА ЗНАЙКА СООБЩАЛ СВОИМ ДРУЗЬЯМ ВСЕ ЭТИ ПОЛЕЗНЫЕ СВЕДЕНИЯ, В КОМНАТЕ ПОСТЕПЕННО СГУЩАЛСЯ МРАК. КОРОТЫШКИ ИЗО ВСЕХ СИЛ ПЯЛИЛИ ГЛАЗА НА ЛУННЫЙ КАМЕНЬ, КОТОРЫЙ ЛЕЖАЛ ПЕРЕД НИМИ, НО НЕ ЗАМЕЧАЛИ НИКАКОГО СВЕЧЕНИЯ. ТОРОПЫЖКА, КОТОРЫЙ БЫЛ САМЫЙ НЕОРГАНИЗОВАННЫЙ, ВСЁ ВРЕМЯ ДЁРГАЛСЯ ОТ НЕТЕРПЕНИЯ И НЕ МОГ УСИДЕТЬ НА МЕСТЕ.\n",
      "\n",
      "– НУ ПОЧЕМУ ОН НЕ СВЕТИТСЯ? НУ КОГДА ЖЕ ОН БУДЕТ СВЕТИТЬСЯ? – ТО И ДЕЛО ПОВТОРЯЛ ОН.\n",
      "\n",
      "– ПОДОЖДИ КАПЕЛЬКУ. ЕЩЁ ОЧЕНЬ СВЕТЛО, – УСПОКАИВАЛ ЕГО ЗНАЙКА.\n",
      "\n",
      "НАКОНЕЦ ТЕМНОТА НАСТУПИЛА ТАКАЯ, ЧТО НЕ СТАЛО ВИДНО НИ КАМНЯ, НИ ДАЖЕ СТОЛА, НА КОТОРОМ ОН ЛЕЖАЛ. А ЗНАЙКА ВСЁ ПОВТОРЯЛ:\n",
      "\n",
      "– ПОДОЖДИТЕ КАПЕЛЬКУ, ЕЩЁ ОЧЕНЬ СВЕТЛО.\n",
      "\n",
      "– ДЕЙСТВИТЕЛЬНО, БРАТЦЫ, ТАК СВЕТЛО, ЧТО ХОТЬ КАРТИНЫ ПИШИ! – ПОДДЕРЖАЛ ЗНАЙКУ ТЮБИК.\n",
      "\n",
      "КТО-ТО ПОТИХОНЕЧКУ ЗАСМЕЯЛСЯ. В ТЕМНОТЕ НЕЛЬЗЯ БЫЛО РАЗОБРАТЬ КТО.\n",
      "\n",
      "– ВСЁ ЭТО ЧУШЬ КАКАЯ-ТО! – СКАЗАЛ ТОРОПЫЖКА. – ПО-МОЕМУ, КАМЕНЬ НЕ БУДЕТ СВЕТИТЬСЯ.\n",
      "\n",
      "– А ЗАЧЕМ ЕМУ СВЕТИТЬСЯ, ЕСЛИ И БЕЗ ТОГО СВЕТЛО, – СКАЗАЛ ВИНТИК.\n",
      "\n",
      "\n",
      "\n",
      "\n",
      "\n",
      "КТО-ТО ОПЯТЬ ЗАСМЕЯЛСЯ. НА ЭТОТ РАЗ ГРОМЧЕ. КАЖЕТСЯ, ЭТО БЫЛ НЕЗНАЙКА. ОН БЫЛ САМЫЙ СМЕШЛИВЫЙ.\n",
      "\n",
      "– ТЫ, ТОРОПЫЖКА, ВСЁ КУДА-ТО ТОРОПИШЬСЯ. ТЕБЕ ВСЁ ПОСКОРЕЙ ХОЧЕТСЯ, – СКАЗАЛ СИРОПЧИК.\n",
      "\n",
      "– А ТЕБЕ НЕ ХОЧЕТСЯ? – СЕРДИТО ПРОВОРЧАЛ ТОРОПЫЖКА.\n",
      "\n",
      "– А КУДА МНЕ СПЕШИТЬ? – ОТВЕТИЛ СИРОПЧИК. – РАЗВЕ ТУТ ПЛОХО? ТЕПЛО, СВЕТЛО И МУХИ НЕ КУСАЮТ.\n",
      "\n",
      "ТУТ УЖ ВСЕ КОРОТЫШКИ НЕ ВЫДЕРЖАЛИ И ГРОМКО РАСХОХОТАЛИСЬ. ВСЕМ ТАК ПОНРАВИЛОСЬ ИЗРЕЧЕНИЕ СИРОПЧИКА НАСЧЁТ МУХ, ЧТО ЕГО СТАЛИ ПОВТОРЯТЬ НА РАЗНЫЕ ЛАДЫ.\n",
      "\n",
      "НАКОНЕЦ ГУСЛЯ СКАЗАЛ:\n",
      "\n",
      "– КАКИЕ ТАМ МУХИ! ВСЕ МУХИ СПЯТ ДАВНО!\n",
      "\n",
      "– ВЕРНО! – ПОДХВАТИЛ ДОКТОР ПИЛЮЛЬКИН. – МУХИ СПЯТ, И НАМ СПАТЬ ПОРА! ПРЕДСТАВЛЕНИЕ ОКОНЧЕНО!\n",
      "\n",
      "– ВЫ НЕ СЕРДИТЕСЬ, БРАТЦЫ, ТУТ ПРОСТО КАКАЯ-ТО ОШИБКА ВЫШЛА, – ОПРАВДЫВАЛСЯ ЗНАЙКА. – ВЧЕРА КАМЕНЬ СВЕТИЛСЯ, ВОТ ДАЮ ВАМ ЧЕСТНОЕ СЛОВО!\n",
      "\n",
      "– НУ, ТЫ НЕ ГОРЮЙ, ЧЕГО ТАМ! ЗАВТРА МЫ СНОВА ПРИДЁМ, – СКАЗАЛ ШПУНТИК.\n",
      "\n",
      "– КОНЕЧНО, ПРИДЁМ: ЗДЕСЬ И СВЕТЛО, И ТЕПЛО, И МУХИ НЕ КУСАЮТ, – ПОДХВАТИЛ КТО-ТО.\n",
      "\n",
      "ВСЕ, СМЕЯСЬ, И ТОЛКАЯСЬ, И НАСТУПАЯ ДРУГ ДРУГУ В ТЕМНОТЕ НА ПЯТКИ, СТАЛИ ВЫБИРАТЬСЯ ИЗ КОМНАТЫ. ЗНАЙКА НАРОЧНО НЕ ЗАЖЁГ ЭЛЕКТРИЧЕСТВО, ТАК КАК ЕМУ СТЫДНО БЫЛО ГЛЯДЕТЬ КОРОТЫШКАМ В ГЛАЗА. КАК ТОЛЬКО ВСЕ РАЗОШЛИСЬ, ОН С РАЗМАХУ БРОСИЛСЯ НА КРОВАТЬ, ЗАРЫЛСЯ ЛИЦОМ В ПОДУШКУ И ОБХВАТИЛ ГОЛОВУ РУКАМИ.\n",
      "\n",
      "– ТАК МНЕ, ДУРАКУ, И НАДО! – БОРМОТАЛ ОН В ОТЧАЯНИИ. – НЕ МОГ ДЕРЖАТЬ ЯЗЫК ЗА ЗУБАМИ – ТЕПЕРЬ РАСПЛАЧИВАЙСЯ! МАЛО ТОГО, ЧТО В СОЛНЕЧНОМ ГОРОДЕ ОПОЗОРИЛСЯ, ТЕПЕРЬ И ЗДЕСЬ ВСЕ БУДУТ СМЕЯТЬСЯ!..\n",
      "\n",
      "ЗНАЙКА ГОТОВ БЫЛ ОТКОЛОТИТЬ САМ СЕБЯ ОТ ДОСАДЫ, НО, СООБРАЗИВ, ЧТО ВРЕМЯ УЖЕ ПОЗДНЕЕ, РЕШИЛ НЕ НАРУШАТЬ РЕЖИМ ДНЯ И, РАЗДЕВШИСЬ, ЛЁГ СПАТЬ. НОЧЬЮ ОН, ОДНАКО Ж, ПРОСНУЛСЯ И, ВЗГЛЯНУВ СЛУЧАЙНО НА СТОЛ, ОБНАРУЖИЛ, ЧТО КАМЕНЬ СВЕТИТСЯ. ЗАКУТАВШИСЬ В ОДЕЯЛО И СУНУВ НОГИ В ШЛЁПАНЦЫ, ЗНАЙКА ПОДОШЁЛ К СТОЛУ И, ВЗЯВ КАМЕНЬ В РУКИ, ПРИНЯЛСЯ РАЗГЛЯДЫВАТЬ ЕГО. КАМЕНЬ СВЕТИЛСЯ ЧИСТЫМ ГОЛУБЫМ СВЕТОМ. ОН ВЕСЬ КАК БЫ СОСТОЯЛ ИЗ ТЫСЯЧИ ВСПЫХИВАЮЩИХ, МЕРЦАЮЩИХ ТОЧЕЧЕК. ПОСТЕПЕННО ЕГО СВЕЧЕНИЕ СТАНОВИЛОСЬ ВСЁ ЯРЧЕ. ОНО БЫЛО УЖЕ НЕ ГОЛУБЫМ, КАК ВНАЧАЛЕ, А КАКОГО-ТО НЕПОНЯТНОГО ЦВЕТА: НЕ ТО РОЗОВОЕ, НЕ ТО ЗЕЛЁНОЕ. ДОСТИГНУВ НАИБОЛЬШЕЙ ЯРКОСТИ, СВЕЧЕНИЕ ПОНЕМНОГУ УГАСЛО, И КАМЕНЬ ПЕРЕСТАЛ СВЕТИТЬСЯ.\n",
      "\n",
      "НЕ СКАЗАВ НИ СЛОВА, ЗНАЙКА ПОЛОЖИЛ КАМЕНЬ НА ПОДОКОННИК И В ГЛУБОКОЙ ЗАДУМЧИВОСТИ ЛЁГ В ПОСТЕЛЬ.\n",
      "\n",
      "С ТЕХ ПОР ОН ЧАСТО НАБЛЮДАЛ СВЕЧЕНИЕ ЛУННОГО КАМНЯ. ИНОГДА ОНО НАСТУПАЛО ПОЗЖЕ, ИНОГДА РАНЬШЕ. ИНОЙ РАЗ КАМЕНЬ СВЕТИЛСЯ ДОЛГО, ВСЮ НОЧЬ, ИНОЙ РАЗ СОВСЕМ НЕ СВЕТИЛСЯ. КАК НИ СТАРАЛСЯ ЗНАЙКА, ОН НЕ МОГ УЛОВИТЬ В СВЕЧЕНИИ КАМНЯ НИКАКОЙ ЗАКОНОМЕРНОСТИ. НИКОГДА НЕЛЬЗЯ БЫЛО СКАЗАТЬ ЗАРАНЕЕ, БУДЕТ НОЧЬЮ СВЕТИТЬСЯ КАМЕНЬ ИЛИ ЖЕ НЕТ. ПОЭТОМУ ЗНАЙКА РЕШИЛ ПОМАЛКИВАТЬ И ПОКА НИКОМУ НИЧЕГО НЕ ГОВОРИТЬ.\n",
      "\n",
      "ДЛЯ ТОГО ЧТОБЫ ПОЛУЧШЕ ИЗУЧИТЬ СВОЙСТВА ЛУННОГО КАМНЯ, ЗНАЙКА РЕШИЛ ПОДВЕРГНУТЬ ЕГО ХИМИЧЕСКОМУ АНАЛИЗУ. ОДНАКО И ТУТ ВСТРЕТИЛИСЬ НЕПРЕОДОЛИМЫЕ ТРУДНОСТИ. ЛУННЫЙ КАМЕНЬ НЕ ХОТЕЛ ВСТУПАТЬ В СОЕДИНЕНИЕ НИ С КАКИМ ДРУГИМ ХИМИЧЕСКИМ ВЕЩЕСТВОМ: НЕ ХОТЕЛ РАСТВОРЯТЬСЯ НИ В ВОДЕ, НИ В СПИРТЕ, НИ В СЕРНОЙ ИЛИ АЗОТНОЙ КИСЛОТЕ. ДАЖЕ СМЕСЬ КРЕПКОЙ АЗОТНОЙ И СОЛЯНОЙ КИСЛОТ, В КОТОРОЙ РАСТВОРЯЕТСЯ ДАЖЕ ЗОЛОТО, НЕ ОКАЗЫВАЛА НИКАКОГО ДЕЙСТВИЯ НА ЛУННЫЙ КАМЕНЬ. ЧТО ЖЕ МОГ СКАЗАТЬ ХИМИК О ВЕЩЕСТВЕ, КОТОРОЕ НЕ ВСТУПАЕТ В СОЕДИНЕНИЕ НИ С КАКИМ ДРУГИМ ВЕЩЕСТВОМ? РАЗВЕ ТОЛЬКО ТО, ЧТО ЭТО ВЕЩЕСТВО – КАКОЙ-НИБУДЬ БЛАГОРОДНЫЙ МЕТАЛЛ ВРОДЕ ЗОЛОТА ИЛИ ПЛАТИНЫ. ОДНАКО ЛУННЫЙ КАМЕНЬ БЫЛ НЕ МЕТАЛЛ, СЛЕДОВАТЕЛЬНО, ОН НЕ МОГ БЫТЬ НИ ЗОЛОТОМ, НИ ПЛАТИНОЙ.\n",
      "\n",
      "ПОТЕРЯВ НАДЕЖДУ РАСТВОРИТЬ ЛУННЫЙ КАМЕНЬ, ЗНАЙКА ПЫТАЛСЯ РАЗЛОЖИТЬ ЕГО НА СОСТАВНЫЕ ЧАСТИ ПОСРЕДСТВОМ НАГРЕВАНИЯ В ТИГЛЕ, НО ЛУННЫЙ КАМЕНЬ НЕ РАЗЛАГАЛСЯ ОТ НАГРЕВАНИЯ. ЗНАЙКА ПРОБОВАЛ ЖЕЧЬ ЕГО В ПЛАМЕНИ, НО ТОЖЕ БЕЗРЕЗУЛЬТАТНО. ЛУННЫЙ КАМЕНЬ, КАК ГОВОРИТСЯ, В ОГНЕ НЕ ГОРЕЛ И В ВОДЕ НЕ ТОНУЛ… ВПРОЧЕМ, НЕПРАВДА. В ВОДЕ ЛУННЫЙ КАМЕНЬ ТОНУЛ, ТОЛЬКО ВСЯ БЕДА БЫЛА В ТОМ, ЧТО ДЕЛАЛ ЭТО ОН ДАЛЕКО НЕ ВСЕГДА. В КАКИХ-ТО СЛУЧАЯХ ЛУННЫЙ КАМЕНЬ ТОНУЛ, КАК ОБЫЧНО ТОНЕТ В ВОДЕ КУСОК САХАРА ИЛИ СОЛИ, В ДРУГИХ ЖЕ СЛУЧАЯХ ОН ПЛАВАЛ НА ПОВЕРХНОСТИ ВОДЫ, СЛОВНО ПРОБКА ИЛИ СУХОЕ ДЕРЕВО. ЭТО ЗНАЧИЛО, ЧТО ВЕС ЛУННОГО КАМНЯ, В СИЛУ КАКИХ-ТО НЕПОСТИЖИМЫХ ПРИЧИН, МЕНЯЛСЯ, И ИЗ ВЕЩЕСТВА, КОТОРОЕ БЫЛО ТЯЖЕЛЕЕ ВОДЫ, ОН ПРЕВРАЩАЛСЯ В ВЕЩЕСТВО ЛЕГЧЕ ВОДЫ. ЭТО БЫЛО КАКОЕ-ТО СОВСЕМ НОВОЕ, ДО СИХ ПОР НЕИЗВЕСТНОЕ СВОЙСТВО ТВЁРДОГО ВЕЩЕСТВА. НИ ОДИН МИНЕРАЛ НА ЗЕМЛЕ НЕ ОБЛАДАЛ ПОДОБНЫМИ УДИВИТЕЛЬНЫМИ СВОЙСТВАМИ.\n",
      "\n",
      "\n",
      "\n",
      "\n",
      "\n",
      "ПРОВОДЯ СВОИ НАБЛЮДЕНИЯ, ЗНАЙКА ЗАМЕТИЛ, ЧТО ОБЫЧНО ТЕМПЕРАТУРА ЛУННОГО КАМНЯ БЫЛА НА ДВА-ТРИ ГРАДУСА ВЫШЕ ТЕМПЕРАТУРЫ ОКРУЖАЮЩИХ ПРЕДМЕТОВ. ЭТО ЗНАЧИЛО, ЧТО НАРЯДУ С ЛУЧИСТОЙ ЭНЕРГИЕЙ ЛУННЫЙ КАМЕНЬ ВЫДЕЛЯЛ И ТЕПЛОВУЮ ЭНЕРГИЮ. ОДНАКО ТАКОЕ ПОВЫШЕНИЕ ТЕМПЕРАТУРЫ НАБЛЮДАЛОСЬ ОПЯТЬ-ТАКИ НЕ ВСЕГДА. ЭТО ЗНАЧИЛО, ЧТО ВЫДЕЛЕНИЕ ТЕПЛОВОЙ ЭНЕРГИИ ПРОИСХОДИЛО НЕ ПОСТОЯННО, А С КАКИМИ-ТО ПЕРЕРЫВАМИ. ИНОГДА ТЕМПЕРАТУРА ЛУННОГО КАМНЯ ОКАЗЫВАЛАСЬ НА НЕСКОЛЬКО ГРАДУСОВ НИЖЕ ОКРУЖАЮЩЕЙ. ЧТО ЭТО ЗНАЧИЛО, БЫЛО ПРОСТО НЕВОЗМОЖНО ПОНЯТЬ.\n",
      "\n",
      "ВСЕ ЭТИ СТРАННЫЕ ВЕЩИ ОЗАДАЧИВАЛИ ЗНАЙКУ И В КОНЦЕ КОНЦОВ НАДОЕЛИ ЕМУ. НЕ УМЕЯ ОБЪЯСНИТЬ ВСЕХ ЭТИХ СТРАННОСТЕЙ, ЗНАЙКА ПЕРЕСТАЛ ИЗУЧАТЬ СВОЙСТВА КАМНЯ И, КАК ГОВОРИТСЯ, МАХНУЛ НА НЕГО РУКОЙ. ЛУННЫЙ КАМЕНЬ ЛЕЖАЛ В ЕГО КОМНАТЕ НА ПОДОКОННИКЕ, СЛОВНО КАКАЯ-ТО НИКОМУ НЕ НУЖНАЯ ВЕЩЬ, И ПОТИХОНЕЧКУ ПОКРЫВАЛСЯ ПЫЛЬЮ.\n",
      "\n",
      "\n",
      "\n",
      "\n",
      "\n",
      "ГЛАВА ТРЕТЬЯ\n",
      "\n",
      "ВВЕРХ ДНОМ\n",
      "\n",
      "\n",
      "\n",
      "\n",
      "В ДАЛЬНЕЙШЕМ ПРОИЗОШЛИ СОБЫТИЯ, КОТОРЫЕ ЗАСТАВИЛИ ЗНАЙКУ И ВОВСЕ ЗАБЫТЬ НА КАКОЕ-ТО ВРЕМЯ О ЛУННОМ КАМНЕ. ТО, ЧТО СЛУЧИЛОСЬ, БЫЛО НАСТОЛЬКО УДИВИТЕЛЬНО И НЕОБЫКНОВЕННО, ЧТО С ТРУДОМ ПОДДАЁТСЯ ОПИСАНИЮ. ЗНАЙКЕ, ГОВОРЯ ПОПРОСТУ, БЫЛО НЕ ДО ТОГО, ЧТОБ ДУМАТЬ О КАКОМ-ТО КАМНЕ, В КОТОРОМ ОН К ТОМУ ЖЕ НЕ ВИДЕЛ НИКАКОГО ПРОКУ.\n",
      "\n",
      "ДЕНЬ, В КОТОРЫЙ ВСЁ ЭТО ПРОИЗОШЛО, НАЧАЛСЯ КАК ОБЫЧНО, ЕСЛИ НЕ СЧИТАТЬ, ЧТО ЗНАЙКА, ПРОСНУВШИСЬ, ВСТАЛ НЕ СРАЗУ, А, ВОПРЕКИ СВОИМ ПРАВИЛАМ, РАЗРЕШИЛ СЕБЕ НЕМНОЖКО ПОВАЛЯТЬСЯ В ПОСТЕЛИ. СНАЧАЛА ЕМУ ПРОСТО БЫЛО ЛЕНЬ ВСТАВАТЬ, А ПОТОМ СТАЛО КАЗАТЬСЯ, БУДТО У НЕГО НЕ ТО БОЛИТ, НЕ ТО КРУЖИТСЯ ГОЛОВА. НЕКОТОРОЕ ВРЕМЯ ОН НЕ ПОНИМАЛ, БОЛИТ ЛИ У НЕГО ГОЛОВА ОТТОГО, ЧТО ОН ЛЕЖИТ В ПОСТЕЛИ, ИЛИ ЖЕ ОН ЛЕЖИТ В ПОСТЕЛИ ОТТОГО, ЧТО У НЕГО БОЛИТ ГОЛОВА. У ЗНАЙКИ, ОДНАКО, БЫЛ СВОЙ СОБСТВЕННЫЙ СПОСОБ БОРОТЬСЯ С ГОЛОВНОЙ БОЛЬЮ, А ИМЕННО – НЕ ОБРАЩАТЬ НА БОЛЬ НИКАКОГО ВНИМАНИЯ И ДЕЛАТЬ ВСЁ ТАК, БУДТО НИКАКОЙ БОЛИ НЕ БЫЛО. РЕШИВ ПРИБЕГНУТЬ К ЭТОМУ СПОСОБУ, ЗНАЙКА БОДРО ВСКОЧИЛ С ПОСТЕЛИ И ПРИНЯЛСЯ ДЕЛАТЬ УТРЕННЮЮ ЗАРЯДКУ. ПРОДЕЛАВ РЯД ГИМНАСТИЧЕСКИХ УПРАЖНЕНИЙ И УМЫВШИСЬ ХОЛОДНОЙ ВОДОЙ, ЗНАЙКА ПОЧУВСТВОВАЛ, ЧТО НИ БОЛИ, НИ ГОЛОВОКРУЖЕНИЯ У НЕГО УЖЕ НЕ БЫЛО.\n",
      "\n",
      "НАСТРОЕНИЕ У ЗНАЙКИ УЛУЧШИЛОСЬ, А ТАК КАК ДО ЗАВТРАКА ОСТАВАЛОСЬ ВРЕМЯ, ОН РЕШИЛ ПРОИЗВЕСТИ УБОРКУ ПОМЕЩЕНИЯ: ПОДМЁЛ ПОЛ В КОМНАТЕ, ПРОТЁР ВЛАЖНОЙ ТРЯПОЧКОЙ СТЕННЫЕ ШКАФЫ, В КОТОРЫХ У НЕГО ХРАНИЛИСЬ РАЗЛИЧНЫЕ ХИМИЧЕСКИЕ ВЕЩЕСТВА В БАНОЧКАХ И КОЛЛЕКЦИИ НАСЕКОМЫХ, А ГЛАВНОЕ – РАЗЛОЖИЛ ПО ПОЛОЧКАМ КНИГИ, КОТОРЫЕ НАКОПИЛИСЬ У НЕГО НА СТОЛЕ, НА ТУМБОЧКЕ ВОЗЛЕ КРОВАТИ И ДАЖЕ НА ПОДОКОННИКЕ. ЭТО ДАВНО НАДО БЫЛО БЫ СДЕЛАТЬ, ДА У ЗНАЙКИ ВСЁ КАК-ТО ВРЕМЕНИ НЕ ХВАТАЛО.\n",
      "\n",
      "УБИРАЯ С ПОДОКОННИКА КНИГИ, ЗНАЙКА РЕШИЛ ЗАОДНО УБРАТЬ И ВАЛЯВШИЙСЯ ТАМ ЛУННЫЙ КАМЕНЬ. ОТКРЫВ ШКАФ, В КОТОРОМ У НЕГО ХРАНИЛАСЬ КОЛЛЕКЦИЯ МИНЕРАЛОВ, ЗНАЙКА СУНУЛ ЛУННЫЙ КАМЕНЬ НА НИЖНЮЮ ПОЛОЧКУ, ТАК КАК НА ВЕРХНИХ ПОЛКАХ НЕ ОБНАРУЖИЛОСЬ НИ ОДНОГО СВОБОДНОГО МЕСТЕЧКА. ДЛЯ ЭТОГО ЗНАЙКЕ ПРИШЛОСЬ НАГНУТЬСЯ, А НАГНУВШИСЬ, ОН СНОВА ПОЧУВСТВОВАЛ ЛЁГКОЕ ГОЛОВОКРУЖЕНИЕ.\n",
      "\n",
      "– НУ ВОТ! – СКАЗАЛ САМ СЕБЕ ЗНАЙКА. – ОПЯТЬ ГОЛОВА КРУЖИТСЯ! МОЖЕТ БЫТЬ, Я НА САМОМ ДЕЛЕ БОЛЬНОЙ? НАДО БУДЕТ СКАЗАТЬ ПИЛЮЛЬКИНУ, ЧТОБ КАКИХ-НИБУДЬ ПОРОШКОВ ДАЛ.\n",
      "\n",
      "ВМЕСТЕ С ГОЛОВОКРУЖЕНИЕМ У ЗНАЙКИ ПОЯВИЛОСЬ КАКОЕ-ТО СТРАННОЕ ОЩУЩЕНИЕ ЗАВИСАНИЯ ВНИЗ ГОЛОВОЙ, ТО ЕСТЬ ЕМУ НА КАКОЙ-ТО МИГ ПОКАЗАЛОСЬ, БУДТО ОН ПЕРЕВЁРНУТ КВЕРХУ НОГАМИ. ОГЛЯДЕВШИСЬ ПО СТОРОНАМ И УБЕДИВШИСЬ, ЧТО ОН ВОВСЕ НЕ ВВЕРХ НОГАМИ, ЗНАЙКА ЗАКРЫЛ ДВЕРЦУ ШКАФА И УЖЕ ХОТЕЛ ВЫПРЯМИТЬСЯ, НО КАК РАЗ В ЭТО ВРЕМЯ ЕГО СНИЗУ СЛОВНО ТОЛКНУЛО ЧТО-ТО И ПОДБРОСИЛО ПОД ПОТОЛОК. УДАРИВШИСЬ О ПОТОЛОК ГОЛОВОЙ, ЗНАЙКА УПАЛ НА ПОЛ И, ЧУВСТВУЯ, ЧТО ЕГО КАК БЫ ПОДХВАТИЛО ВЕТРОМ И КУДА-ТО НЕСЁТ, УХВАТИЛСЯ РУКОЙ ЗА СТУЛ. ЭТО ЕМУ, ОДНАКО Ж, НЕ ПОМОГЛО УДЕРЖАТЬСЯ НА МЕСТЕ. В СЛЕДУЮЩЕЕ МГНОВЕНИЕ ОН УЖЕ СНОВА БЫЛ В ВОЗДУХЕ, И ПРИТОМ ВМЕСТЕ СО СТУЛОМ В РУКАХ. ОТЛЕТЕВ В УГОЛ КОМНАТЫ, ЗНАЙКА УДАРИЛСЯ СПИНОЙ О СТЕНУ, ОТСКОЧИЛ ОТ НЕЁ, СЛОВНО МЯЧИК, И ПОЛЕТЕЛ К ПРОТИВОПОЛОЖНОЙ СТЕНЕ. ЗАЦЕПИВ ПО ПУТИ СТУЛОМ ЗА ЛЮСТРУ И РАСКОЛОТИВ ЛАМПУ, ЗНАЙКА ВРЕЗАЛСЯ ГОЛОВОЙ В КНИЖНУЮ ПОЛКУ, ОТЧЕГО КНИГИ РАЗЛЕТЕЛИСЬ В РАЗНЫЕ СТОРОНЫ. УВИДЕВ, ЧТО ОТ СТУЛА НИКАКОЙ ПОЛЬЗЫ НЕТ, ЗНАЙКА ОТШВЫРНУЛ ЕГО ОТ СЕБЯ. В РЕЗУЛЬТАТЕ СТУЛ ПОЛЕТЕЛ ВНИЗ И, УДАРИВШИСЬ О ПОЛ, ПОДСКОЧИЛ КВЕРХУ, СЛОВНО РЕЗИНОВЫЙ, САМ ЖЕ ЗНАЙКА ОТЛЕТЕЛ К ПОТОЛКУ И, ОТСКОЧИВ ОТ НЕГО, ПОЛЕТЕЛ ВНИЗ. ПО ПУТИ ОН СТОЛКНУЛСЯ С ЛЕТЯЩИМ НАВСТРЕЧУ СТУЛОМ И ПОЛУЧИЛ УДАР СПИНКОЙ СТУЛА ПРЯМО ПО ПЕРЕНОСИЦЕ. УДАР БЫЛ НАСТОЛЬКО СИЛЕН, ЧТО ЗНАЙКА ОШАЛЕЛ ОТ БОЛИ И НА НЕКОТОРОЕ ВРЕМЯ ПЕРЕСТАЛ ТРЕПЫХАТЬСЯ В ВОЗДУХЕ.\n",
      "\n",
      "ПРИДЯ ПОСТЕПЕННО В СЕБЯ, ЗНАЙКА УБЕДИЛСЯ, ЧТО ВИСИТ В КАКОЙ-ТО НЕЛЕПОЙ ПОЗЕ ПОСРЕДИ КОМНАТЫ, МЕЖДУ ПОЛОМ И ПОТОЛКОМ. НЕПОДАЛЁКУ ОТ НЕГО ПОВИС КВЕРХУ НОЖКАМИ СТУЛ, ЛЮСТРА ВИСЕЛА В КАКОМ-ТО ПРОТИВОЕСТЕСТВЕННОМ СОСТОЯНИИ: НЕ ОТВЕСНО, КАК БЫВАЕТ ВСЕГДА, А НАИСКОСЬ, СЛОВНО КАКАЯ-ТО НЕВЕДОМАЯ СИЛА ПРИТЯГИВАЛА ЕЁ К СТЕНЕ; ВОКРУГ ПО ВСЕЙ КОМНАТЕ ПЛАВАЛИ КНИГИ. ЗНАЙКЕ ПОКАЗАЛОСЬ СТРАННЫМ, ЧТО И СТУЛ, И КНИГИ НЕ ПАДАЮТ НА ПОЛ, А КАК БЫ ВЗВЕШЕНЫ В ВОЗДУХЕ. ВСЁ ЭТО БЫЛО ПОХОЖЕ НА СОСТОЯНИЕ НЕВЕСОМОСТИ, КОТОРОЕ ЗНАЙКА НАБЛЮДАЛ В КАБИНЕ КОСМИЧЕСКОГО КОРАБЛЯ ВО ВРЕМЯ ПУТЕШЕСТВИЯ НА ЛУНУ.\n",
      "\n",
      "\n",
      "\n",
      "\n",
      "\n",
      "– СТРАННО! – ПРОБОРМОТАЛ ЗНАЙКА. – ОЧЕНЬ СТРАННО!\n",
      "\n",
      "СТАРАЯСЬ НЕ ДЕЛАТЬ РЕЗКИХ ДВИЖЕНИЙ, ОН ПОПРОБОВАЛ ПОДНЯТЬ РУКУ. ЕГО УДИВИЛО, ЧТО ДЛЯ ЭТОГО ЕМУ НЕ ПОТРЕБОВАЛОСЬ НИКАКОГО УСИЛИЯ. РУКА ПОДНЯЛАСЬ КАК БЫ САМА СОБОЙ. ОНА БЫЛА ЛЁГКАЯ, КАК ПУШИНКА. ЗНАЙКА ПОДНЯЛ ДРУГУЮ РУКУ. И ЭТА РУКА СЛОВНО НЕ ВЕСИЛА НИЧЕГО. ЕЁ ДАЖЕ КАК БУДТО ПОДТАЛКИВАЛО ЧТО-ТО СНИЗУ. ТЕПЕРЬ, КОГДА ВОЛНЕНИЕ ЕГО НЕСКОЛЬКО УЛЕГЛОСЬ, ЗНАЙКА ПОЧУВСТВОВАЛ ВО ВСЁМ ТЕЛЕ КАКУЮ-ТО НЕОБЫЧНУЮ ЛЁГКОСТЬ. ЕМУ КАЗАЛОСЬ, ЧТО СТОИТ ТОЛЬКО ВЗМАХНУТЬ РУКАМИ, И ОН НАЧНЁТ ПОРХАТЬ ПО КОМНАТЕ, СЛОВНО МОТЫЛЁК ИЛИ КАКОЕ-НИБУДЬ ДРУГОЕ КРЫЛАТОЕ НАСЕКОМОЕ.\n",
      "\n",
      "«ЧТО ЖЕ СО МНОЙ СЛУЧИЛОСЬ? – В СМЯТЕНИИ ДУМАЛ ЗНАЙКА. – ОДНО ИЗ ДВУХ: ЛИБО Я НАХОЖУСЬ В СОСТОЯНИИ НЕВЕСОМОСТИ, ЛИБО Я СПЛЮ И ВСЁ ЭТО МНЕ ВО СНЕ СНИТСЯ».\n",
      "\n",
      "ОН ПРИНЯЛСЯ ИЗО ВСЕХ СИЛ ТАРАЩИТЬ ГЛАЗА, СТАРАЯСЬ ПРОСНУТЬСЯ, НО, УБЕДИВШИСЬ, ЧТО И БЕЗ ТОГО НЕ СПИТ, ОКОНЧАТЕЛЬНО ПРИШЁЛ В УНЫНИЕ И ЗАКРИЧАЛ ЖАЛОБНЫМ ГОЛОСОМ:\n",
      "\n",
      "– БРАТЦЫ, СПАСИТЕ!\n",
      "\n",
      "ТАК КАК НА ПОМОЩЬ НИКТО НЕ ШЁЛ, ЗНАЙКА РЕШИЛ ПОСКОРЕЙ ВЫБРАТЬСЯ ИЗ КОМНАТЫ И ПОСМОТРЕТЬ, ЧТО ДЕЛАЮТ ОСТАЛЬНЫЕ ДРУЗЬЯ КОРОТЫШКИ.\n",
      "\n",
      "НАЧАВ ОСТОРОЖНО ДЕЛАТЬ РУКАМИ И НОГАМИ ПЛАВАТЕЛЬНЫЕ ДВИЖЕНИЯ, ЗНАЙКА СТАЛ МЕДЛЕННО ПЕРЕМЕЩАТЬСЯ ПО ВОЗДУХУ И ПОСТЕПЕННО ДОПЛЫЛ ДО ДВЕРИ. ТАМ ОН УЦЕПИЛСЯ РУКАМИ ЗА ПРИТОЛОКУ И ПРИНЯЛСЯ ИЗО ВСЕХ СИЛ ТОЛКАТЬ ДВЕРЬ НОГАМИ. КАЗАЛОСЬ БЫ, ОТКРЫТЬ ДВЕРЬ – ДЕЛО НЕХИТРОЕ, ОДНАКО В СОСТОЯНИИ НЕВЕСОМОСТИ ЭТО НЕ ТАК ПРОСТО, КАК КАЖЕТСЯ. ЗНАЙКЕ ПРИШЛОСЬ ПОТРАТИТЬ НЕМАЛО УСИЛИЙ, ПРЕЖДЕ ЧЕМ ДВЕРЬ ОКАЗАЛАСЬ ОТКРЫТОЙ.\n",
      "\n",
      "ВЫБРАВШИСЬ НАКОНЕЦ ИЗ КОМНАТЫ И ОЧУТИВШИСЬ НА ЛЕСТНИЦЕ (ВЕРНЕЕ СКАЗАТЬ, НАД ЛЕСТНИЦЕЙ), ЗНАЙКА ПРИНЯЛСЯ РАЗДУМЫВАТЬ, КАК БЫ ЕМУ СПУСТИТЬСЯ ВНИЗ. КАЖДЫЙ МОЖЕТ ЛЕГКО ДОГАДАТЬСЯ, ЧТО СПУСКАТЬСЯ ОБЫЧНЫМ СПОСОБОМ, ТО ЕСТЬ СХОДЯ ПО СТУПЕНЬКАМ, ЗНАЙКА ТЕПЕРЬ НЕ МОГ, ТАК КАК СИЛА ТЯЖЕСТИ УЖЕ НЕ ТЯНУЛА ЕГО ВНИЗ И, СКОЛЬКО БЫ ОН НИ ПЕРЕБИРАЛ НОГАМИ, ЭТО НИ К ЧЕМУ БЫ НЕ ПРИВЕЛО.\n",
      "\n",
      "В КОНЦЕ КОНЦОВ ЗНАЙКА ВСЁ ЖЕ ПРИДУМАЛ ХОРОШИЙ СПОСОБ. ДОТЯНУВШИСЬ ДО ПЕРИЛ, ОН СТАЛ СПУСКАТЬСЯ, ЦЕПЛЯЯСЬ ЗА ПЕРИЛА РУКАМИ. НАВЕРНО, СО СТОРОНЫ ЭТО ВЫГЛЯДЕЛО ОЧЕНЬ СМЕШНО, ПОТОМУ ЧТО ЗНАЙКИНЫ НОГИ БОЛТАЛИСЬ В ВОЗДУХЕ, КАК У КОМАРА, И, ПО МЕРЕ ТОГО КАК ОН ОПУСКАЛСЯ ВСЁ НИЖЕ, НОГИ ЕГО ЗАДИРАЛИСЬ ВСЁ ВЫШЕ И ОН ВСЁ БОЛЬШЕ ПЕРЕВЁРТЫВАЛСЯ ВНИЗ ГОЛОВОЙ.\n",
      "\n",
      "\n",
      "\n",
      "\n",
      "\n",
      "СПУСТИВШИСЬ ТАКИМ ОРИГИНАЛЬНЫМ СПОСОБОМ С ЛЕСТНИЦЫ, ЗНАЙКА ОЧУТИЛСЯ В КОРИДОРЕ ПЕРЕД ДВЕРЬЮ В СТОЛОВУЮ. ИЗ-ЗА ДВЕРИ ДОНОСИЛИСЬ КАКИЕ-ТО ПРИГЛУШЁННЫЕ КРИКИ. ЗНАЙКА ПРИСЛУШАЛСЯ И ПОНЯЛ, ЧТО НАХОДИВШИЕСЯ В СТОЛОВОЙ КОРОТЫШКИ ЧЕМ-ТО ВСТРЕВОЖЕНЫ. ПОСЛЕ НЕСКОЛЬКИХ НЕУДАЧНЫХ ПОПЫТОК ЗНАЙКА ОТВОРИЛ ДВЕРЬ И ОЧУТИЛСЯ В СТОЛОВОЙ. ТО, ЧТО ОН УВИДЕЛ, ПРИВЕЛО ЕГО В ИЗУМЛЕНИЕ. КОРОТЫШКИ, СОБРАВШИЕСЯ В СТОЛОВОЙ, НЕ СИДЕЛИ, КАК ВСЕГДА, ЗА СТОЛОМ, А ПЛАВАЛИ В РАЗЛИЧНЫХ ПОЗАХ ПО ВОЗДУХУ. ВОКРУГ НИХ ПЛАВАЛИ СТУЛЬЯ, СКАМЕЙКИ, МИСКИ, ТАРЕЛКИ, ЛОЖКИ. ТУТ ЖЕ ПЛАВАЛА БОЛЬШАЯ АЛЮМИНИЕВАЯ КАСТРЮЛЯ, НАПОЛНЕННАЯ МАННОЙ КАШЕЙ.\n",
      "\n",
      "УВИДЕВ ЗНАЙКУ, КОРОТЫШКИ ПОДНЯЛИ НЕВЕРОЯТНЫЙ ШУМ.\n",
      "\n",
      "– ЗНАЕЧКА, МИЛЕНЬКИЙ, ПОМОГИ! – ЗАВОПИЛ РАСТЕРЯЙКА. – Я НЕ ПОЙМУ, ЧТО СО МНОЙ ПРОИСХОДИТ!\n",
      "\n",
      "– СЛУШАЙ, ЗНАЙКА, МЫ ВСЕ ПОЧЕМУ-ТО ЛЕТАЕМ! – ЗАКРИЧАЛ ДОКТОР ПИЛЮЛЬКИН.\n",
      "\n",
      "– А У МЕНЯ НОГИ ОТНЯЛИСЬ! Я ХОДИТЬ НЕ МОГУ! – ВИЗЖАЛ СИРОПЧИК.\n",
      "\n",
      "– И У МЕНЯ НОГИ ОТНЯЛИСЬ! У ВСЕХ НОГИ ОТНЯЛИСЬ! И СТЕНЫ ШАТАЮТСЯ! – КРИЧАЛ ВОРЧУН.\n",
      "\n",
      "\n",
      "\n",
      "\n",
      "\n",
      "– ТИШЕ, БРАТЦЫ! – ЗАКРИЧАЛ В ОТВЕТ ЗНАЙКА. – Я САМ НИЧЕГО НЕ МОГУ ПОНЯТЬ. ПО-МОЕМУ, МЫ В СОСТОЯНИИ НЕВЕСОМОСТИ. МЫ ПОТЕРЯЛИ ВЕС. Я ИСПЫТЫВАЛ ТАКОЕ ЖЕ СОСТОЯНИЕ, КОГДА ЛЕТЕЛ НА ЛУНУ В РАКЕТЕ.\n",
      "\n",
      "– НО МЫ ВЕДЬ НИКУДА НЕ ЛЕТИМ, – СКАЗАЛ ТЮБИК.\n",
      "\n",
      "– ЭТО, НАВЕРНО, КТО-ТО НАРОЧНО ПРИДУМАЛ ТАКОЕ БАЛОВСТВО! – ЗАКРИЧАЛ ТОРОПЫЖКА.\n",
      "\n",
      "– КТО-ТО ПОДШУТИЛ НАД НАМИ! – ПОДХВАТИЛ РАСТЕРЯЙКА.\n",
      "\n",
      "– НУ ЧТО ЗА ШУТКИ ЕЩЁ! – ЗАВИЗЖАЛ ПОНЧИК. – ПРЕКРАТИТЕ СЕЙЧАС ЖЕ! У МЕНЯ ГОЛОВА КРУЖИТСЯ! ПОЧЕМУ СТЕНЫ ШАТАЮТСЯ? ПОЧЕМУ ВСЁ ПЕРЕВЕРНУЛОСЬ ВВЕРХ ДНОМ?\n",
      "\n",
      "– ВСЁ НА МЕСТЕ, – ОТВЕТИЛ ПОНЧИКУ ЗНАЙКА. – ТЫ САМ ПЕРЕВЕРНУЛСЯ ВНИЗ ГОЛОВОЙ, ОТ ЭТОГО ТЕБЕ И КАЖЕТСЯ, ЧТО ВСЁ ВОКРУГ ВВЕРХ ДНОМ.\n",
      "\n",
      "– НУ ТАК ПУСТЬ МЕНЯ СЕЙЧАС ЖЕ ПЕРЕВЕРНУТ ОБРАТНО, А ТО Я ЗА СЕБЯ НЕ ОТВЕЧАЮ! – ПРОДОЛЖАЛ КРИЧАТЬ ПОНЧИК.\n",
      "\n",
      "– СПОКОЙСТВИЕ! – СКАЗАЛ ЗНАЙКА. – СНАЧАЛА НАМ НАДО ВЫЯСНИТЬ, ОТЧЕГО МЫ ПОТЕРЯЛИ ВЕС.\n",
      "\n",
      "А НЕЗНАЙКА СКАЗАЛ:\n",
      "\n",
      "– ЕСЛИ МЫ ПОТЕРЯЛИ ВЕС, ТАК ЕГО НАДО НАЙТИ, И ДЕЛО С КОНЦОМ. ЧЕГО ТУТ ЕЩЁ ВЫЯСНЯТЬ?\n",
      "\n",
      "– А ТЫ, ДУРАЧОК, МОЛЧИ, ЕСЛИ НИЧЕГО ДЕЛЬНОГО ПРЕДЛОЖИТЬ НЕ МОЖЕШЬ, – СКАЗАЛ С РАЗДРАЖЕНИЕМ ШПУНТИК.\n",
      "\n",
      "– А ТЫ МЕНЯ ДУРАЧКОМ НЕ НАЗЫВАЙ, А ТО КАК ДАМ КУЛАКОМ!\n",
      "\n",
      "С ЭТИМИ СЛОВАМИ НЕЗНАЙКА ВЗМАХНУЛ КУЛАКОМ И ДАЛ ШПУНТИКУ ТАКОГО СИЛЬНОГО ПОДЗАТЫЛЬНИКА, ЧТО ШПУНТИК ЗАВЕРТЕЛСЯ ВОЛЧКОМ И ПОЛЕТЕЛ ЧЕРЕЗ ВСЮ КОМНАТУ.\n",
      "\n",
      "НЕЗНАЙКА ТОЖЕ НЕ УДЕРЖАЛСЯ НА МЕСТЕ И, ПОЛЕТЕВ В ПРОТИВОПОЛОЖНУЮ СТОРОНУ, СТУКНУЛСЯ ГОЛОВОЙ О КАСТРЮЛЮ С КАШЕЙ. ОТ ТОЛЧКА ЖИДКАЯ МАННАЯ КАША ВЫПЛЕСНУЛАСЬ ПРЯМО В ЛИЦО НАХОДИВШЕМУСЯ НЕПОДАЛЁКУ ПОНЧИКУ.\n",
      "\n",
      "– БРАТЦЫ, ЭТО ЧТО?.. ЗА ЧТО?.. ЭТО БЕЗОБРАЗИЕ! – КРИЧАЛ ПОНЧИК, РАЗМАЗЫВАЯ ПО ЛИЦУ МАННУЮ КАШУ И ПЛЮЯСЬ ВО ВСЕ СТОРОНЫ.\n",
      "\n",
      "СТАРАЯСЬ ИЗБЕЖАТЬ СТОЛКНОВЕНИЯ С ПЛЮЮЩИМСЯ ПОНЧИКОМ И ПЛЫВУЩИМИ ПО ВОЗДУХУ КОМЬЯМИ МАННОЙ КАШИ, КОРОТЫШКИ ПРИНЯЛИСЬ ДЕЛАТЬ РЕЗКИЕ ДВИЖЕНИЯ РУКАМИ И НОГАМИ, В РЕЗУЛЬТАТЕ ЧЕГО СТАЛИ ЛЕТАТЬ ПО КОМНАТЕ ВО ВСЕХ НАПРАВЛЕНИЯХ, СТАЛКИВАЯСЬ ДРУГ С ДРУГОМ И НАНОСЯ ДРУГ ДРУГУ РАЗЛИЧНЫЕ ПОВРЕЖДЕНИЯ.\n",
      "\n",
      "– ТИШЕ, БРАТЦЫ! СПОКОЙСТВИЕ! – НАДРЫВАЛСЯ ЗНАЙКА, КОТОРОГО ТОЛКАЛИ СО ВСЕХ СТОРОН. – СТАРАЙТЕСЬ НЕ ДВИГАТЬСЯ, БРАТЦЫ, А ТО Я НЕ ЗНАЮ, ЧТО БУДЕТ! В СОСТОЯНИИ НЕВЕСОМОСТИ НЕЛЬЗЯ ДЕЛАТЬ СЛИШКОМ РЕЗКИХ ДВИЖЕНИЙ. СЛЫШИТЕ, ЧТО Я ВАМ ГОВОРЮ? СПОКОЙ-СТВИ-Е!!!\n",
      "\n",
      "РАССЕРДИВШИСЬ, ЗНАЙКА СТУКНУЛ КУЛАКОМ ПО СТОЛУ, ВОЗЛЕ КОТОРОГО В ТОТ МОМЕНТ НАХОДИЛСЯ. ОТ ТАКОГО РЕЗКОГО ДВИЖЕНИЯ ЗНАЙКУ САМОГО ПЕРЕВЕРНУЛО В ВОЗДУХЕ И ДОВОЛЬНО СИЛЬНО УШИБЛО ЗАТЫЛКОМ ОБ УГОЛ СТОЛА.\n",
      "\n",
      "– НУ ВОТ, Я ЖЕ ГОВОРИЛ! – ЗАКРИЧАЛ ОН, ПОЧЁСЫВАЯ РУКОЙ УШИБЛЕННОЕ МЕСТО.\n",
      "\n",
      "КОРОТЫШКИ В КОНЦЕ КОНЦОВ ПОНЯЛИ, ЧТО ОТ НИХ ТРЕБОВАЛОСЬ, И, ПЕРЕСТАВ ДЕЛАТЬ БЕСЦЕЛЬНЫЕ ДВИЖЕНИЯ, ЗАСТЫЛИ В \n",
      "\n",
      "[9, 6, 13, 7, 15, 16, 6, 0, 2, 13, 16, 12, 16] \n",
      "\n",
      "ЗЕЛЁНОЕЯБЛОКО \n",
      "\n"
     ]
    }
   ],
   "source": [
    "for item in original_text.values():\n",
    "    print(item, '\\n')"
   ]
  },
  {
   "cell_type": "markdown",
   "id": "c9f9716f",
   "metadata": {},
   "source": [
    "Путем перебора сдвигов по частотам был получен оригинальный текст - отрывок из произведения \"Незнайка на Луне\"\n",
    "\n",
    "Ключом оказалось словосочетание \"ЗЕЛЁНОЕЯБЛОКО\""
   ]
  }
 ],
 "metadata": {
  "kernelspec": {
   "display_name": "Python 3 (ipykernel)",
   "language": "python",
   "name": "python3"
  },
  "language_info": {
   "codemirror_mode": {
    "name": "ipython",
    "version": 3
   },
   "file_extension": ".py",
   "mimetype": "text/x-python",
   "name": "python",
   "nbconvert_exporter": "python",
   "pygments_lexer": "ipython3",
   "version": "3.9.12"
  }
 },
 "nbformat": 4,
 "nbformat_minor": 5
}
